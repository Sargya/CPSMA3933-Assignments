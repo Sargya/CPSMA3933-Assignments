{
 "cells": [
  {
   "cell_type": "markdown",
   "id": "c217c7fb",
   "metadata": {},
   "source": [
    "# Recursion Assignment"
   ]
  },
  {
   "cell_type": "markdown",
   "id": "2a8c24cf",
   "metadata": {},
   "source": [
    "# Solve the recursion\n",
    "f(n) = 7f(n-1) - 10f(n-2)  f(0)=1 f(1)=3"
   ]
  },
  {
   "cell_type": "markdown",
   "id": "c7b2569f",
   "metadata": {},
   "source": [
    "1. Using mathematical method taught in class to get analytic equation. Type up details and program function"
   ]
  },
  {
   "cell_type": "code",
   "execution_count": 1,
   "id": "9ad7f867",
   "metadata": {},
   "outputs": [
    {
     "name": "stdout",
     "output_type": "stream",
     "text": [
      "f(0) = 1\n",
      "f(1) = 3\n",
      "f(2) = 11\n",
      "f(3) = 47\n",
      "f(4) = 219\n",
      "f(5) = 1063\n"
     ]
    }
   ],
   "source": [
    "# Analytic solution of the given recurrence relation:\n",
    "# f(n) = 7f(n-1) - 10f(n-2)\n",
    "# Given: f(0) = 1, f(1) = 3\n",
    "\n",
    "# Step 1: Assume f(n) = r^n\n",
    "# Substitute in the relation → r^2 - 7r + 10 = 0\n",
    "# Solving gives (r - 5)(r - 2) = 0 → r1 = 5, r2 = 2\n",
    "\n",
    "# Step 2: General solution\n",
    "# f(n) = A*(5^n) + B*(2^n)\n",
    "\n",
    "# Step 3: Using initial conditions\n",
    "# when n=0 → A + B = 1\n",
    "# when n=1 → 5A + 2B = 3\n",
    "# Solving gives A = 1/3 and B = 2/3\n",
    "\n",
    "# Final analytic formula:\n",
    "# f(n) = (1/3)*5^n + (2/3)*2^n\n",
    "# To keep results exact (integer form): f(n) = (5^n + 2*(2^n)) / 3\n",
    "\n",
    "def f_analytic(n):\n",
    "    if n < 0:\n",
    "        print(\"n must be non-negative\")\n",
    "        return None\n",
    "    result = (pow(5, n) + 2 * pow(2, n)) // 3\n",
    "    return result\n",
    "\n",
    "# Checking first few terms to verify\n",
    "for i in range(6):\n",
    "    print(\"f({}) = {}\".format(i, f_analytic(i)))\n"
   ]
  },
  {
   "cell_type": "markdown",
   "id": "f4fd7481",
   "metadata": {},
   "source": [
    "2. Using dynamic programming."
   ]
  },
  {
   "cell_type": "code",
   "execution_count": 2,
   "id": "849fcda5",
   "metadata": {},
   "outputs": [
    {
     "name": "stdout",
     "output_type": "stream",
     "text": [
      "f(0) = 1\n",
      "f(1) = 3\n",
      "f(2) = 11\n",
      "f(3) = 47\n",
      "f(4) = 219\n",
      "f(5) = 1063\n"
     ]
    }
   ],
   "source": [
    "# Dynamic Programming approach (Iterative / Bottom-Up)\n",
    "# Given: f(n) = 7f(n-1) - 10f(n-2)\n",
    "# f(0) = 1, f(1) = 3\n",
    "\n",
    "def f_dp_iter(n):\n",
    "    if n < 0:\n",
    "        print(\"n must be non-negative\")\n",
    "        return None\n",
    "    if n == 0:\n",
    "        return 1\n",
    "    if n == 1:\n",
    "        return 3\n",
    "    \n",
    "    f0, f1 = 1, 3\n",
    "    for i in range(2, n + 1):\n",
    "        f_next = 7 * f1 - 10 * f0\n",
    "        f0, f1 = f1, f_next\n",
    "    return f1\n",
    "\n",
    "# checking few values to make sure it's working\n",
    "for i in range(6):\n",
    "    print(\"f({}) = {}\".format(i, f_dp_iter(i)))\n"
   ]
  },
  {
   "cell_type": "markdown",
   "id": "29fd50f0",
   "metadata": {},
   "source": [
    "3. Using dynamic programming and memoization."
   ]
  },
  {
   "cell_type": "code",
   "execution_count": 3,
   "id": "51e83386",
   "metadata": {},
   "outputs": [
    {
     "name": "stdout",
     "output_type": "stream",
     "text": [
      "f(0) = 1\n",
      "f(1) = 3\n",
      "f(2) = 11\n",
      "f(3) = 47\n",
      "f(4) = 219\n",
      "f(5) = 1063\n"
     ]
    }
   ],
   "source": [
    "# Dynamic Programming with Memoization (Top-Down)\n",
    "# Here we use recursion with caching to avoid repeated calculations\n",
    "\n",
    "from functools import lru_cache\n",
    "\n",
    "@lru_cache(maxsize=None)\n",
    "def f_dp_memo(n):\n",
    "    if n < 0:\n",
    "        print(\"n must be non-negative\")\n",
    "        return None\n",
    "    if n == 0:\n",
    "        return 1\n",
    "    if n == 1:\n",
    "        return 3\n",
    "    return 7 * f_dp_memo(n - 1) - 10 * f_dp_memo(n - 2)\n",
    "\n",
    "# check few values\n",
    "for i in range(6):\n",
    "    print(\"f({}) = {}\".format(i, f_dp_memo(i)))\n"
   ]
  },
  {
   "cell_type": "markdown",
   "id": "dd83062b",
   "metadata": {},
   "source": [
    "4. Compare the results of each function. Discuss the advantages and disadvantages of each method. Consider difficulty of solving and the time it would take to get the 1000 entry of the sequence in each of the three solutions."
   ]
  },
  {
   "cell_type": "markdown",
   "id": "666fee7b",
   "metadata": {},
   "source": [
    "After running all three methods;  analytic, dynamic programming (iterative), and dynamic programming with memoization, the outputs are the same for every value of *n*.  \n",
    "This proves that all three approaches correctly solve the given recurrence relation.\n",
    "\n",
    "**Observation:**  \n",
    "For small values like f(2), f(3), and f(4), all three give 11, 47, and 219 respectively.  \n",
    "When I tested f(1000), every method gave the same huge number (only the analytic one was almost instant).\n",
    "\n",
    "\n",
    "\n",
    "#### 1. Analytic Method\n",
    "The analytic or closed-form solution uses the formula  \n",
    "**f(n) = (1/3)×5ⁿ + (2/3)×2ⁿ**  \n",
    "This is the fastest way because it calculates the answer directly using powers.  \n",
    "However, the formula takes more time to derive at the beginning since we need to solve the characteristic equation first.\n",
    "\n",
    "\n",
    "#### 2. Dynamic Programming (Iterative)\n",
    "This method builds the result step by step from f(0) and f(1).  \n",
    "It is easy to understand and very reliable.  \n",
    "It takes O(n) time and O(1) space, so even f(1000) can be found in less than a second.  \n",
    "This is usually the best choice for programming tasks.\n",
    "\n",
    "\n",
    "#### 3. Dynamic Programming with Memoization\n",
    "This is the recursive approach that stores already-calculated results.  \n",
    "It gives the same answers but is a bit slower than the iterative one because of recursion overhead.  \n",
    "It is good for understanding how recursion works but not always the most efficient for very large *n*.\n",
    "\n",
    "\n",
    "\n",
    "#### Final Comparison\n",
    "| Method | Type | Time | Space | Remarks |\n",
    "| Analytic | Formula / Math | Fastest (O(log n)) | O(1) | Needs derivation but gives instant results |\n",
    "| DP Iterative | Bottom-Up | O(n) | O(1) | Simple, clean, and efficient |\n",
    "| DP Memoized | Top-Down | O(n) | O(n) | Easy to write but uses recursion and more memory |\n",
    "\n",
    "##Conclusion \n",
    "All three methods are correct.  \n",
    "The analytic formula is the fastest, the iterative DP is the easiest to code, and the memoized version is good for learning the concept.  \n",
    "For calculating something like f(1000), the analytic one is almost instant, while the DP ones are still quite fast.\n"
   ]
  }
 ],
 "metadata": {
  "kernelspec": {
   "display_name": "Python 3 (ipykernel)",
   "language": "python",
   "name": "python3"
  },
  "language_info": {
   "codemirror_mode": {
    "name": "ipython",
    "version": 3
   },
   "file_extension": ".py",
   "mimetype": "text/x-python",
   "name": "python",
   "nbconvert_exporter": "python",
   "pygments_lexer": "ipython3",
   "version": "3.11.5"
  }
 },
 "nbformat": 4,
 "nbformat_minor": 5
}

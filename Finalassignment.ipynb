{
 "cells": [
  {
   "cell_type": "markdown",
   "id": "2b677a4d",
   "metadata": {},
   "source": [
    "# Assignment CPSMA 3933\n",
    " \n",
    "\n",
    "**Name:** Saroj Bhandari  \n",
    "**Class:** CPSMA 3933  \n",
    "**Assignment:** Computer Lab #0  \n",
    "**Date:** September 2, 2025  \n",
    "\n",
    "---\n"
   ]
  },
  {
   "cell_type": "markdown",
   "id": "7babd380",
   "metadata": {},
   "source": [
    "# My Favorite Python Function\n",
    "\n",
    "My favorite function is `len()`. I like it because it quickly tells me the number of elements in a list, string, or other collection. It saves time when working with datasets or checking user input length, and I use it almost every time I code.  \n"
   ]
  },
  {
   "cell_type": "markdown",
   "id": "192b976c",
   "metadata": {},
   "source": [
    "# My Custom Function Using Python\n",
    "\n",
    "I created a function called `square()` that returns the square of a number. This is useful in mathematics, data analysis, and machine learning applications.  "
   ]
  },
  {
   "cell_type": "code",
   "execution_count": 1,
   "id": "3fd0d51e",
   "metadata": {},
   "outputs": [
    {
     "name": "stdout",
     "output_type": "stream",
     "text": [
      "Square of 2: 4\n",
      "Square of 5: 25\n",
      "Square of 10: 100\n"
     ]
    }
   ],
   "source": [
    "def square(x):\n",
    "    return x * x\n",
    "\n",
    "# Testing my function with different values\n",
    "print(\"Square of 2:\", square(2))\n",
    "print(\"Square of 5:\", square(5))\n",
    "print(\"Square of 10:\", square(10))"
   ]
  },
  {
   "cell_type": "markdown",
   "id": "36800662",
   "metadata": {},
   "source": [
    "## Working with Lists\n",
    "\n",
    "Here is a list of 10 numbers I generated. I will compute the **sum**, **minimum**, **maximum**, and the **average** of the numbers.  \n"
   ]
  },
  {
   "cell_type": "markdown",
   "id": "411534cc",
   "metadata": {},
   "source": []
  },
  {
   "cell_type": "code",
   "execution_count": 3,
   "id": "6647985e",
   "metadata": {},
   "outputs": [
    {
     "name": "stdout",
     "output_type": "stream",
     "text": [
      "Numbers: [4, 7, 2, 9, 12, 6, 3, 8, 15, 10]\n",
      "Sum: 76\n",
      "Min: 2\n",
      "Max: 15\n",
      "Average: 7.6\n"
     ]
    }
   ],
   "source": [
    "numbers = [4, 7, 2, 9, 12, 6, 3, 8, 15, 10]\n",
    "\n",
    "print(\"Numbers:\", numbers)\n",
    "print(\"Sum:\", sum(numbers))\n",
    "print(\"Min:\", min(numbers))\n",
    "print(\"Max:\", max(numbers))\n",
    "print(\"Average:\", sum(numbers)/len(numbers))"
   ]
  },
  {
   "cell_type": "code",
   "execution_count": null,
   "id": "dd76af1e",
   "metadata": {},
   "outputs": [],
   "source": []
  }
 ],
 "metadata": {
  "kernelspec": {
   "display_name": "Python 3 (ipykernel)",
   "language": "python",
   "name": "python3"
  },
  "language_info": {
   "codemirror_mode": {
    "name": "ipython",
    "version": 3
   },
   "file_extension": ".py",
   "mimetype": "text/x-python",
   "name": "python",
   "nbconvert_exporter": "python",
   "pygments_lexer": "ipython3",
   "version": "3.11.5"
  }
 },
 "nbformat": 4,
 "nbformat_minor": 5
}

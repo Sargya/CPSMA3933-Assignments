{
  "nbformat": 4,
  "nbformat_minor": 0,
  "metadata": {
    "colab": {
      "provenance": [],
      "include_colab_link": true
    },
    "kernelspec": {
      "name": "python3",
      "display_name": "Python 3"
    },
    "language_info": {
      "name": "python"
    }
  },
  "cells": [
    {
      "cell_type": "markdown",
      "metadata": {
        "id": "view-in-github",
        "colab_type": "text"
      },
      "source": [
        "<a href=\"https://colab.research.google.com/github/Sargya/CPSMA3933-Assignments/blob/main/Project_Assignments/ProblemSolving.ipynb\" target=\"_parent\"><img src=\"https://colab.research.google.com/assets/colab-badge.svg\" alt=\"Open In Colab\"/></a>"
      ]
    },
    {
      "cell_type": "markdown",
      "source": [
        "# Problem Solving"
      ],
      "metadata": {
        "id": "jRaIKW6MbtEr"
      }
    },
    {
      "cell_type": "markdown",
      "source": [
        "## Factorials\n",
        "\n",
        "A factorial is the product of all previous numbers and is expressed with an exclamation $!$.  Thus\n",
        "$$\n",
        "3! = 3\\cdot 2\\cdot 1 = 6\n",
        "$$\n",
        "\n",
        "and\n",
        "$$\n",
        "n! = n(n-1)(n-2)\\cdots3\\cdot2\\cdot1\n",
        "$$\n",
        "\n",
        "How many zeros does $1000!$ end with?  Please do not count them in the number below as the precision may be off!"
      ],
      "metadata": {
        "id": "ABJslq5hb0Z-"
      }
    },
    {
      "cell_type": "code",
      "execution_count": 1,
      "metadata": {
        "colab": {
          "base_uri": "https://localhost:8080/"
        },
        "id": "LfbWxWvKbsQb",
        "outputId": "35f8317f-96ed-4012-b356-d5a7873b33e7"
      },
      "outputs": [
        {
          "output_type": "stream",
          "name": "stdout",
          "text": [
            "1000//5 = 200\n",
            "1000//25 = 40\n",
            "1000//125 = 8\n",
            "1000//625 = 1\n",
            "Number of trailing zeros in 1000! is: 249\n"
          ]
        }
      ],
      "source": [
        "import math\n",
        "\n",
        "def trailing_zeros_factorial(n):\n",
        "    count = 0\n",
        "    i = 5\n",
        "    while n // i > 0:\n",
        "        print(f\"{n}//{i} = {n//i}\")   # step-by-step breakdown\n",
        "        count += n // i\n",
        "        i *= 5\n",
        "    return count\n",
        "\n",
        "zeros = trailing_zeros_factorial(1000)\n",
        "print(\"Number of trailing zeros in 1000! is:\", zeros)"
      ]
    },
    {
      "cell_type": "markdown",
      "source": [
        "## Big Numbers\n",
        "\n",
        "The sum of the digits of the number $100^{13}-26$ is how much?"
      ],
      "metadata": {
        "id": "yZpb4Ghbc4Zo"
      }
    },
    {
      "cell_type": "markdown",
      "source": [
        "Here is how I thought to approach the problem..."
      ],
      "metadata": {
        "id": "V8ptErrNicgC"
      }
    },
    {
      "cell_type": "code",
      "source": [
        "# Step 1: Compute the number\n",
        "x = 100**13 - 26\n",
        "print(\"Number is:\", x)\n",
        "\n",
        "# Step 2: Convert to list of digits\n",
        "listofx = [int(digit) for digit in str(x)]\n",
        "print(\"Digits:\", listofx)\n",
        "\n",
        "# Step 3: Sum of digits\n",
        "digit_sum = sum(listofx)\n",
        "print(\"Sum of digits:\", digit_sum)"
      ],
      "metadata": {
        "colab": {
          "base_uri": "https://localhost:8080/"
        },
        "id": "SMGHYyFjcbTs",
        "outputId": "341d7e8f-8d49-449d-8e41-7e4d06d39b76"
      },
      "execution_count": 4,
      "outputs": [
        {
          "output_type": "stream",
          "name": "stdout",
          "text": [
            "Number is: 99999999999999999999999974\n",
            "Digits: [9, 9, 9, 9, 9, 9, 9, 9, 9, 9, 9, 9, 9, 9, 9, 9, 9, 9, 9, 9, 9, 9, 9, 9, 7, 4]\n",
            "Sum of digits: 227\n"
          ]
        }
      ]
    },
    {
      "cell_type": "markdown",
      "source": [
        "## Handshakes\n",
        "\n",
        "Two soccer teams have just finished their game.  The two teams of 11 all shake hands and the winning team also shakes hand with each other.  How many handshakes have occured?"
      ],
      "metadata": {
        "id": "5p6sa9qZio6Z"
      }
    },
    {
      "cell_type": "markdown",
      "source": [
        "## Harder Handshakes\n",
        "\n",
        "Mr. Smith and his wife invited four other couples for a dinner party.  When everyone arrived, handshakes were exchanged with some of the others.  Of course no one shook hands with their spouse and nobody shook hands with the same person twice.\n",
        "\n",
        "Mr. Smith asked everyone how many times they shook hands.  He recieved a different answer from each person.\n",
        "\n",
        "How many times did Mr. Smith shake hands?"
      ],
      "metadata": {
        "id": "g4ypceUKjJrp"
      }
    },
    {
      "cell_type": "code",
      "source": [
        "# Just prints the logically forced answer\n",
        "def smith_handshakes():\n",
        "    # Others report distinct 0..8; spouse counts pair to (0,8),(1,7),(2,6),(3,5)\n",
        "    # The only unpaired count is 4, which must be Mr. Smith's.\n",
        "    return 4\n",
        "\n",
        "print(\"Mr. Smith shook\", smith_handshakes(), \"hands.\")"
      ],
      "metadata": {
        "id": "qyHeUOSajwat",
        "outputId": "583e150b-7155-40ac-8879-6474dd632c2f",
        "colab": {
          "base_uri": "https://localhost:8080/"
        }
      },
      "execution_count": 5,
      "outputs": [
        {
          "output_type": "stream",
          "name": "stdout",
          "text": [
            "Mr. Smith shook 4 hands.\n"
          ]
        }
      ]
    }
  ]
}
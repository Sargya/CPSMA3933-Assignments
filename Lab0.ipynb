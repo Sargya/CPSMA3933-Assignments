{
 "cells": [
  {
   "cell_type": "markdown",
   "id": "d76d891e",
   "metadata": {},
   "source": [
    "# CPSMA 3933 — Computer Lab #0\n",
    "**Name:** Pragya Phuyal  \n",
    "\n",
    "_All work is done in a single notebook with both code and written comments. Markdown cells are used for explanations; code cells are used for Python._\n"
   ]
  },
  {
   "cell_type": "markdown",
   "id": "c4c2498c",
   "metadata": {},
   "source": [
    "## 1) Start a new Jupyter Notebook (headers & make it look pretty)\n",
    "This notebook includes my name, the class, and the assignment. It uses clear section headers and short explanations before each code cell so it is easy to read.\n"
   ]
  },
  {
   "cell_type": "markdown",
   "id": "e4a5efda",
   "metadata": {},
   "source": [
    "## 3) My Favorite Function (Markdown)\n",
    "My favorite mathematical function is the **sigmoid** function.  \n",
    "It smoothly maps any real number to a value between 0 and 1, which is useful for probabilities and for turning raw scores into “how likely” something is. I like it because it’s simple, differentiable everywhere, and appears in many ML models.\n",
    "\n",
    "The formula is:\n",
    "\n",
    "\\[ \\sigma(x) = \\frac{1}{1 + e^{-x}} \\]\n",
    "\n",
    "Below I define it in Python and evaluate a few interesting inputs.\n"
   ]
  },
  {
   "cell_type": "code",
   "execution_count": null,
   "id": "9a80c5fd",
   "metadata": {},
   "outputs": [],
   "source": [
    "import math\n",
    "\n",
    "def sigmoid(x: float) -> float:\n",
    "    \"\"\"Return the logistic sigmoid of x.\"\"\"\n",
    "    return 1.0 / (1.0 + math.exp(-x))\n",
    "\n",
    "# 4) Compute a few interesting values\n",
    "test_values = [-5, -2, -1, 0, 1, 2, 5]\n",
    "sig_values = [sigmoid(x) for x in test_values]\n",
    "\n",
    "for x, sx in zip(test_values, sig_values):\n",
    "    print(f\"sigmoid({x:>3}) = {sx:.6f}\")\n",
    "\n",
    "# Extra: show how the function squashes extremes toward 0 and 1\n",
    "print(\"\\nMin of outputs:\", min(sig_values))\n",
    "print(\"Max of outputs:\", max(sig_values))"
   ]
  },
  {
   "cell_type": "markdown",
   "id": "f6969206",
   "metadata": {},
   "source": [
    "## 5) Create a list with at least 10 values (Markdown explanation)\n",
    "I generated **10 pseudo‑random integers between 1 and 100** using a fixed random seed (`3933`) so the results are reproducible.  \n",
    "From this list, I compute the **sum**, **minimum**, **maximum**, and one additional metric (**median**)."
   ]
  },
  {
   "cell_type": "code",
   "execution_count": null,
   "id": "0548dca2",
   "metadata": {},
   "outputs": [],
   "source": [
    "import random\n",
    "import statistics as stats\n",
    "\n",
    "random.seed(3933)  # fixed seed for reproducibility\n",
    "nums = [random.randint(1, 100) for _ in range(10)]\n",
    "print(\"Numbers:\", nums)\n",
    "\n",
    "total = sum(nums)\n",
    "mn = min(nums)\n",
    "mx = max(nums)\n",
    "median = stats.median(nums)\n",
    "\n",
    "print(\"Sum:\", total)\n",
    "print(\"Min:\", mn)\n",
    "print(\"Max:\", mx)\n",
    "print(\"Median:\", median)\n",
    "\n",
    "# A couple of extra, optional summaries\n",
    "mean = total / len(nums)\n",
    "value_range = mx - mn\n",
    "print(\"Mean:\", round(mean, 2))\n",
    "print(\"Range (max - min):\", value_range)"
   ]
  },
  {
   "cell_type": "markdown",
   "id": "6d969ac0",
   "metadata": {},
   "source": [
    "## 6) Save to GitHub (instructions)\n",
    "From a terminal inside this repository folder:\n",
    "```bash\n",
    "git add Lab0.ipynb\n",
    "git commit -m \"Complete CPSMA 3933 Lab 0\"\n",
    "git push origin main\n",
    "```\n"
   ]
  },
  {
   "cell_type": "markdown",
   "id": "717a4f97",
   "metadata": {},
   "source": [
    "## 7) Submission\n",
    "I will submit **only the link to this GitHub repository** on Blackboard.\n"
   ]
  }
 ],
 "metadata": {},
 "nbformat": 4,
 "nbformat_minor": 5
}
